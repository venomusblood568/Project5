{
  "nbformat": 4,
  "nbformat_minor": 0,
  "metadata": {
    "colab": {
      "provenance": []
    },
    "kernelspec": {
      "name": "python3",
      "display_name": "Python 3"
    },
    "language_info": {
      "name": "python"
    }
  },
  "cells": [
    {
      "cell_type": "code",
      "execution_count": 46,
      "metadata": {
        "id": "IkjEbe-Liano"
      },
      "outputs": [],
      "source": [
        "import keras\n",
        "\n",
        "# Load the MNIST dataset using Keras\n",
        "mnist = keras.datasets.mnist\n",
        "\n",
        "# Split the dataset into training and testing sets\n",
        "# x_train and y_train are the features and labels for the training set\n",
        "# x_test and y_test are the features and labels for the testing set\n",
        "(x_train, y_train), (x_test, y_test) = mnist.load_data()\n",
        "\n",
        "# The MNIST dataset consists of 28x28 pixel grayscale images of handwritten digits (0 through 9).\n",
        "# x_train and x_test contain the image data as 3D arrays, where each element represents the pixel intensity.\n",
        "# y_train and y_test contain the corresponding labels indicating the actual digit (ground truth) for each image.\n"
      ]
    },
    {
      "cell_type": "code",
      "source": [
        "import matplotlib.pyplot as plt\n",
        "\n",
        "# Import the necessary libraries\n",
        "\n",
        "# Display the first training image using matplotlib\n",
        "plt.imshow(x_train[0])\n",
        "\n",
        "# Show the plotted image\n",
        "plt.show()\n",
        "\n",
        "# Print the label (digit) corresponding to the first training image\n",
        "print(y_train[0])\n",
        "\n",
        "# The plt.imshow() function is used to display the image at index 0 from the x_train dataset.\n",
        "# This image represents a handwritten digit from the MNIST dataset.\n",
        "\n",
        "# plt.show() is called to display the plotted image.\n",
        "\n",
        "# Finally, the corresponding label (digit) for the first training image is printed using print(y_train[0]).\n",
        "# This label represents the actual digit that the handwritten image is supposed to depict.\n"
      ],
      "metadata": {
        "colab": {
          "base_uri": "https://localhost:8080/",
          "height": 447
        },
        "id": "b1alKDnIjFoR",
        "outputId": "03356eed-dcac-49e7-ac8b-2f3c37c9ee85"
      },
      "execution_count": 55,
      "outputs": [
        {
          "output_type": "display_data",
          "data": {
            "text/plain": [
              "<Figure size 640x480 with 1 Axes>"
            ],
            "image/png": "[encoded data removed]"
          },
          "metadata": {}
        },
        {
          "output_type": "stream",
          "name": "stdout",
          "text": [
            "[0. 0. 0. 0. 0. 1. 0. 0. 0. 0.]\n"
          ]
        }
      ]
    },
    {
      "cell_type": "code",
      "source": [
        "# Reshape the training and testing data to add a channel dimension (1 for grayscale)\n",
        "x_train = x_train.reshape(x_train.shape[0], 28, 28, 1)\n",
        "x_test = x_test.reshape(x_test.shape[0], 28, 28, 1)\n",
        "\n",
        "# Define the input shape for the neural network (28x28 image with 1 channel for grayscale)\n",
        "input_shape = (28, 28, 1)\n",
        "\n",
        "# Convert the pixel values to floating-point numbers\n",
        "x_train = x_train.astype('float32')\n",
        "x_test = x_test.astype('float32')\n",
        "\n",
        "# Normalize the pixel values to the range [0, 1] by dividing by the maximum pixel value (255)\n",
        "x_train /= 255\n",
        "x_test /= 255\n"
      ],
      "metadata": {
        "id": "DUO1OFZukx-2"
      },
      "execution_count": 48,
      "outputs": []
    },
    {
      "cell_type": "code",
      "source": [
        "# Print the original label for the first training example\n",
        "print(y_train[0])\n",
        "\n",
        "# Convert the labels to one-hot encoded format using Keras's to_categorical function\n",
        "# The '10' in the arguments indicates the number of classes (digits 0 through 9)\n",
        "y_train = keras.utils.to_categorical(y_train, 10)\n",
        "y_test = keras.utils.to_categorical(y_test, 10)\n",
        "\n",
        "# Print the one-hot encoded label for the first training example\n",
        "print(y_train[0])\n"
      ],
      "metadata": {
        "colab": {
          "base_uri": "https://localhost:8080/"
        },
        "id": "ts-clXtFnZaM",
        "outputId": "7ba5aa87-b5f5-47c4-e924-cd9c31e4f20b"
      },
      "execution_count": 49,
      "outputs": [
        {
          "output_type": "stream",
          "name": "stdout",
          "text": [
            "5\n",
            "[0. 0. 0. 0. 0. 1. 0. 0. 0. 0.]\n"
          ]
        }
      ]
    },
    {
      "cell_type": "code",
      "source": [
        "# Create a Sequential model\n",
        "model = keras.models.Sequential()\n",
        "\n",
        "# First Convolutional Layer with 32 filters and a 3x3 kernel, using 'relu' activation\n",
        "# input_shape specifies the shape of the input data\n",
        "model.add(keras.layers.Conv2D(32, kernel_size=(3, 3), activation='relu', input_shape=input_shape))\n",
        "\n",
        "# Second Convolutional Layer with 64 filters and a 3x3 kernel, using 'relu' activation\n",
        "model.add(keras.layers.Conv2D(64, (3, 3), activation='relu'))\n",
        "\n",
        "# MaxPooling Layer to downsample the spatial dimensions\n",
        "model.add(keras.layers.MaxPooling2D(pool_size=(2, 2)))\n",
        "\n",
        "# Dropout Layer to prevent overfitting by randomly setting a fraction of input units to zero during training\n",
        "model.add(keras.layers.Dropout(0.25))\n",
        "\n",
        "# Flatten Layer to convert the 2D matrix data to a vector for the Dense layers\n",
        "model.add(keras.layers.Flatten())\n",
        "\n",
        "# Dense Layer with 128 neurons and 'relu' activation\n",
        "model.add(keras.layers.Dense(128, activation='relu'))\n",
        "\n",
        "# Dropout Layer for regularization\n",
        "model.add(keras.layers.Dropout(0.5))\n",
        "\n",
        "# Output Dense Layer with 10 neurons (for 10 classes) and 'softmax' activation for multi-class classification\n",
        "model.add(keras.layers.Dense(10, activation='softmax'))\n",
        "\n",
        ""
      ],
      "metadata": {
        "id": "Uuv2hXxjoOP9"
      },
      "execution_count": 50,
      "outputs": []
    },
    {
      "cell_type": "code",
      "source": [
        "# Compile the model with categorical crossentropy loss, Adadelta optimizer, and accuracy metric\n",
        "model.compile(loss=keras.losses.categorical_crossentropy,\n",
        "              optimizer=keras.optimizers.Adadelta(),\n",
        "              metrics=['accuracy'])\n",
        "\n",
        "# Train the model using the training data for 9 epochs\n",
        "# Batch size is set to 128, and validation data is provided for evaluation\n",
        "model.fit(x_train, y_train,\n",
        "          batch_size=128,\n",
        "          epochs=9,\n",
        "          validation_data=(x_test, y_test))\n"
      ],
      "metadata": {
        "colab": {
          "base_uri": "https://localhost:8080/"
        },
        "id": "rmjFTomvHsdn",
        "outputId": "09e254b4-bc93-4ce9-c7b4-9235f9134b3a"
      },
      "execution_count": 53,
      "outputs": [
        {
          "output_type": "stream",
          "name": "stdout",
          "text": [
            "Epoch 1/9\n",
            "469/469 [==============================] - 145s 307ms/step - loss: 2.2039 - accuracy: 0.2445 - val_loss: 2.1411 - val_accuracy: 0.4668\n",
            "Epoch 2/9\n",
            "469/469 [==============================] - 140s 299ms/step - loss: 2.1061 - accuracy: 0.3694 - val_loss: 2.0151 - val_accuracy: 0.6360\n",
            "Epoch 3/9\n",
            "469/469 [==============================] - 138s 295ms/step - loss: 1.9762 - accuracy: 0.4708 - val_loss: 1.8503 - val_accuracy: 0.7163\n",
            "Epoch 4/9\n",
            "469/469 [==============================] - 146s 311ms/step - loss: 1.8172 - accuracy: 0.5413 - val_loss: 1.6506 - val_accuracy: 0.7500\n",
            "Epoch 5/9\n",
            "469/469 [==============================] - 140s 298ms/step - loss: 1.6369 - accuracy: 0.5892 - val_loss: 1.4337 - val_accuracy: 0.7763\n",
            "Epoch 6/9\n",
            "469/469 [==============================] - 143s 305ms/step - loss: 1.4581 - accuracy: 0.6246 - val_loss: 1.2293 - val_accuracy: 0.7968\n",
            "Epoch 7/9\n",
            "469/469 [==============================] - 139s 297ms/step - loss: 1.2988 - accuracy: 0.6542 - val_loss: 1.0576 - val_accuracy: 0.8106\n",
            "Epoch 8/9\n",
            "469/469 [==============================] - 143s 305ms/step - loss: 1.1724 - accuracy: 0.6738 - val_loss: 0.9238 - val_accuracy: 0.8227\n",
            "Epoch 9/9\n",
            "469/469 [==============================] - 140s 299ms/step - loss: 1.0731 - accuracy: 0.6926 - val_loss: 0.8223 - val_accuracy: 0.8319\n"
          ]
        },
        {
          "output_type": "execute_result",
          "data": {
            "text/plain": [
              "<keras.src.callbacks.History at 0x7fe45773cd60>"
            ]
          },
          "metadata": {},
          "execution_count": 53
        }
      ]
    },
    {
      "cell_type": "code",
      "source": [
        "# Evaluate the model on the test set and print the results\n",
        "evaluation_result = model.evaluate(x_test, y_test)\n",
        "\n",
        "# Print the evaluation result, which includes the loss and metric values\n",
        "print(evaluation_result)\n"
      ],
      "metadata": {
        "colab": {
          "base_uri": "https://localhost:8080/"
        },
        "id": "6yuZT-BrKU3g",
        "outputId": "44ce1547-67ca-4529-f501-f6093ea98182"
      },
      "execution_count": 56,
      "outputs": [
        {
          "output_type": "stream",
          "name": "stdout",
          "text": [
            "313/313 [==============================] - 6s 19ms/step - loss: 0.8223 - accuracy: 0.8319\n",
            "[0.8223133683204651, 0.8319000005722046]\n"
          ]
        }
      ]
    }
  ]
}